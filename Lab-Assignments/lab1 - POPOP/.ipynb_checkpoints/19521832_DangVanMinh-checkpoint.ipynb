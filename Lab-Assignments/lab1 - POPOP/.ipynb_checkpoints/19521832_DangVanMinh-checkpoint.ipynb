{
 "cells": [
  {
   "cell_type": "markdown",
   "metadata": {
    "id": "ICTtpF0ugxG3"
   },
   "source": [
    "Môn: Mạng neural và giải thuật di truyền\n",
    "\n",
    "Họ và tên: Đặng Văn Minh\n",
    "\n",
    "MSSV: 19521832"
   ]
  },
  {
   "cell_type": "markdown",
   "metadata": {
    "id": "h4BdIdirgxHB"
   },
   "source": [
    "# 1 - Task\n",
    "\n",
    "* Cài đặt Genetic Algorithm theo bản cài đặt **POPOP** (không sử dụng mutation).\n",
    "\n",
    "* thực nghiệm bản cài đặt của mình với các **problem size** của hàm OneMax tăng dần như sau: 8, 16, 32, 64, 128\n",
    "\n",
    "* Ở đầu mỗi lượt chạy, khi khởi tạo quần thể, thì cần đặt lại **random seed**. Hãy chọn random seed là MSSV của mình.\n",
    "\n",
    "* Với mỗi problem size, hãy chọn ra **population size** có khả năng tìm ra được lời giải tối ưu (không chạy quá 50 thế hệ). \n",
    "\n",
    "> Bài nộp: 1 file ipynb (Ở cuối file viết một đoạn bình luận ngắn thống kế và nhận xét về kết quả thực nghiệm)."
   ]
  },
  {
   "cell_type": "markdown",
   "metadata": {
    "id": "dUoq8_ifhN6V"
   },
   "source": [
    "# 1 - Packages"
   ]
  },
  {
   "cell_type": "code",
   "execution_count": 203,
   "metadata": {
    "id": "r__fmusqNNuu"
   },
   "outputs": [],
   "source": [
    "import numpy as np"
   ]
  },
  {
   "cell_type": "markdown",
   "metadata": {
    "collapsed": true,
    "id": "dlTkpJTYNNu3"
   },
   "source": [
    "# 2 - Code POPOP"
   ]
  },
  {
   "cell_type": "markdown",
   "metadata": {
    "id": "r2k_u6qthtWS"
   },
   "source": [
    "## 2.1 Initialize population"
   ]
  },
  {
   "cell_type": "code",
   "execution_count": 204,
   "metadata": {
    "id": "cDw0uXxPNNuv"
   },
   "outputs": [],
   "source": [
    "def initialize_population( num_individuals, num_variables ):\n",
    "    \"\"\"\n",
    "    Khởi tạo quần thể gồm num_individuals cá thể. Mỗi cá thể có num_parameters biến.\n",
    "    \n",
    "    Arguments:\n",
    "    num_individuals -- Số lượng cá thể\n",
    "    num_variables -- Số lượng biến\n",
    "    \n",
    "    Returns:\n",
    "    pop -- Ma trận (num_individuals, num_variables ) chứa quần thể mới được khởi tạo ngẫu nhiên.\n",
    "    \"\"\"\n",
    "    \n",
    "    ### BẮT ĐẦU CODE TỪ ĐÂY ### \n",
    "    pop = np.random.randint(2, size=(num_individuals, num_variables))\n",
    "    \n",
    "    ### DỪNG CODE TẠI ĐÂY ###\n",
    "    \n",
    "    return pop"
   ]
  },
  {
   "cell_type": "code",
   "execution_count": 205,
   "metadata": {
    "colab": {
     "base_uri": "https://localhost:8080/"
    },
    "id": "B2mFFli0fUCH",
    "outputId": "09dc2d42-42f3-43ab-fa34-53d0c96d8727"
   },
   "outputs": [
    {
     "name": "stdout",
     "output_type": "stream",
     "text": [
      "[[0 1 0 0]\n",
      " [0 1 0 0]\n",
      " [0 1 0 0]\n",
      " [0 0 1 0]\n",
      " [1 1 1 0]\n",
      " [1 0 1 1]\n",
      " [1 1 1 1]\n",
      " [1 1 0 0]]\n"
     ]
    }
   ],
   "source": [
    "np.random.seed(42)\n",
    "pop = initialize_population(8,4)\n",
    "print(pop)"
   ]
  },
  {
   "cell_type": "markdown",
   "metadata": {
    "id": "-gC8eg7ih28B"
   },
   "source": [
    "## 2.2 One max"
   ]
  },
  {
   "cell_type": "code",
   "execution_count": 206,
   "metadata": {
    "id": "sexPh34MNNuw"
   },
   "outputs": [],
   "source": [
    "def onemax( ind ):\n",
    "    \"\"\"\n",
    "    Hàm đánh giá OneMax: Đếm số bit 1 trong chuỗi nhị phân (cá thể ind).\n",
    "    \n",
    "    Arguments:\n",
    "    ind -- Cá thể cần được đánh giá.\n",
    "\n",
    "    Returns:\n",
    "    value -- Giá trị của cá thể ind.\n",
    "    \"\"\"\n",
    "    \n",
    "    ### BẮT ĐẦU CODE TỪ ĐÂY ###     \n",
    "    value = np.sum(ind)\n",
    "    \n",
    "    ### DỪNG CODE TẠI ĐÂY ###\n",
    "    \n",
    "    return value"
   ]
  },
  {
   "cell_type": "code",
   "execution_count": 207,
   "metadata": {
    "colab": {
     "base_uri": "https://localhost:8080/"
    },
    "id": "m-wgJivufTUG",
    "outputId": "f2092f33-23a7-4fe6-aa45-7a8645573a5b"
   },
   "outputs": [
    {
     "data": {
      "text/plain": [
       "3"
      ]
     },
     "execution_count": 207,
     "metadata": {},
     "output_type": "execute_result"
    }
   ],
   "source": [
    "onemax(pop[5,:])"
   ]
  },
  {
   "cell_type": "markdown",
   "metadata": {
    "id": "WBSqCmshh61e"
   },
   "source": [
    "## 2.3 - crossover"
   ]
  },
  {
   "cell_type": "code",
   "execution_count": 208,
   "metadata": {
    "id": "KYtI5HO2NNuy"
   },
   "outputs": [],
   "source": [
    "def crossover( pop ):\n",
    "    \"\"\"\n",
    "    Hàm biến đổi tạo ra các cá thể con.\n",
    "    \n",
    "    Arguments:\n",
    "    pop -- Quàn thể hiện tại.\n",
    "\n",
    "    Returns:\n",
    "    offspring -- Quần thể chứa các cá thể con được sinh ra.\n",
    "    \"\"\"  \n",
    "    \n",
    "    ### BẮT ĐẦU CODE TỪ ĐÂY ### \n",
    "    num_individuals = len(pop)\n",
    "    num_parameters = len(pop[0])\n",
    "    indices = np.arange(num_individuals)\n",
    "    # Đảo ngẫu nhiên thứ tự các cá thể trong quần thể\n",
    "    np.random.shuffle(indices)\n",
    "    offspring = []\n",
    "    \n",
    "    for i in range(0, num_individuals, 2):\n",
    "        idx1 = indices[i]\n",
    "        idx2 = indices[i+1]\n",
    "        offspring1 = list(pop[idx1])\n",
    "        offspring2 = list(pop[idx2])\n",
    "        \n",
    "        # Cài đặt phép lai đồng nhất uniform crossover. \n",
    "        # Không cần cài đặt đột biến mutation.\n",
    "        for idx in range(0, num_parameters):\n",
    "            r = np.random.rand()\n",
    "            if r < 0.5:\n",
    "                temp = offspring2[idx] \n",
    "                offspring2[idx] = offspring1[idx]\n",
    "                offspring1[idx] = temp\n",
    "\n",
    "        offspring.append(offspring1)\n",
    "        offspring.append(offspring2)\n",
    "\n",
    "\n",
    "    ### DỪNG CODE TẠI ĐÂY ###\n",
    "    \n",
    "    offspring = np.array(offspring)\n",
    "    return offspring"
   ]
  },
  {
   "cell_type": "markdown",
   "metadata": {
    "id": "pgewH6v6h_Uf"
   },
   "source": [
    "## 2.4 Tournament selection"
   ]
  },
  {
   "cell_type": "code",
   "execution_count": 209,
   "metadata": {
    "id": "bB0l1UbHgxHH"
   },
   "outputs": [],
   "source": [
    "def tournament_selection(parent_population, population_size, tourament_size): \n",
    "\n",
    "    n_tournament = len(parent_population) // tournament_size\n",
    "    n_loop = population_size // n_tournament\n",
    "    pop = []\n",
    "    \n",
    "    for i in range(n_loop):\n",
    "        np.random.shuffle(parent_population)\n",
    "        pop_fitness = np.array([onemax(ind) for ind in parent_population])\n",
    "        \n",
    "        for tournament in range(n_tournament):\n",
    "            \n",
    "            begin_point = tournament * tournament_size\n",
    "            \n",
    "            idx_max = np.argmax(pop_fitness[begin_point:begin_point+tournament_size])\n",
    "            pop.append(np.copy(parent_population[idx_max + begin_point]))\n",
    "        \n",
    "    return np.array(pop)"
   ]
  },
  {
   "cell_type": "code",
   "execution_count": 210,
   "metadata": {
    "colab": {
     "base_uri": "https://localhost:8080/"
    },
    "id": "1WaaTRMp3SBy",
    "outputId": "ace69b3f-e75e-4327-b44c-15e1bb136951"
   },
   "outputs": [
    {
     "name": "stdout",
     "output_type": "stream",
     "text": [
      "[0 1 2 3 4]\n",
      "[4 1 0 3 2]\n",
      "[2 3 4 1 0]\n"
     ]
    }
   ],
   "source": [
    "a = np.arange(5)\n",
    "np.random.seed(19521832)\n",
    "print(a)\n",
    "np.random.shuffle(a)\n",
    "print(a)\n",
    "np.random.shuffle(a)\n",
    "print(a)"
   ]
  },
  {
   "cell_type": "markdown",
   "metadata": {
    "id": "MxPlxBlxiE1a"
   },
   "source": [
    "## 2.5 Check convergence"
   ]
  },
  {
   "cell_type": "code",
   "execution_count": 211,
   "metadata": {
    "id": "QMdSFQ22gxHH"
   },
   "outputs": [],
   "source": [
    "def convergence(pop):\n",
    "    \"\"\"\n",
    "    Convergence when individuals is all the same ==> column is all the same\n",
    "    Args: \n",
    "        - Population: (n_individuals, n_variables)\n",
    "    Return:\n",
    "        - True if all inds same else False\n",
    "    \"\"\"\n",
    "    n_ind, n_var = pop.shape\n",
    "    \n",
    "    arr = pop.sum(axis=0)\n",
    "    \n",
    "    for i in range(n_var):\n",
    "        if arr[i] != 0 and arr[i] != n_ind:\n",
    "            return False\n",
    "    return True"
   ]
  },
  {
   "cell_type": "code",
   "execution_count": 212,
   "metadata": {
    "colab": {
     "base_uri": "https://localhost:8080/"
    },
    "id": "AKTxDaEbgxHH",
    "outputId": "7841810c-575a-4f9f-94d7-808493bd344b"
   },
   "outputs": [
    {
     "data": {
      "text/plain": [
       "True"
      ]
     },
     "execution_count": 212,
     "metadata": {},
     "output_type": "execute_result"
    }
   ],
   "source": [
    "arr = np.array([[0, 1, 0, 1], [0, 1, 0, 1], [0, 1, 0, 1]])\n",
    "convergence(arr)"
   ]
  },
  {
   "cell_type": "markdown",
   "metadata": {
    "id": "lFk8DPVciKkU"
   },
   "source": [
    "## 2.6 - POPOP"
   ]
  },
  {
   "cell_type": "code",
   "execution_count": 213,
   "metadata": {
    "id": "UAEfq2ySgxHH"
   },
   "outputs": [],
   "source": [
    "def POPOP_genetic_algorithm(num_individuals, num_parameters, tournament_size):\n",
    "    # Initialize individuals\n",
    "    pop = initialize_population(num_individuals, num_parameters)\n",
    "    pop_fitness = np.array([onemax(ind) for ind in pop])\n",
    "    print(f'Initialized population:\\n {pop}')\n",
    "    \n",
    "    generations = 0\n",
    "    print(f'Gen: 0')\n",
    "    print(pop_fitness)\n",
    "    \n",
    "    while True:\n",
    "        # check convergence of population\n",
    "        if convergence(pop) == True: \n",
    "            break  \n",
    "        # if not converge, create new generation\n",
    "        generations += 1\n",
    "            \n",
    "        # Create offstring use crossover, do not use mutation\n",
    "        offstring = crossover(pop)\n",
    "        \n",
    "        # P + O pool\n",
    "        P_O_pop = np.vstack((pop, offstring))\n",
    "        \n",
    "        # Select parent for next generation\n",
    "        pop = tournament_selection(P_O_pop, num_individuals, tournament_size)\n",
    "        pop_fitness = np.array([onemax(ind) for ind in pop])\n",
    "        \n",
    "        print(f'Gen: {generations}') \n",
    "        print(pop_fitness)\n",
    "        \n",
    "    print('# Final result:')\n",
    "    print(pop)\n",
    "    print(pop_fitness)\n",
    "        \n",
    "    # return 1 if can find optimal solution else 0      \n",
    "    is_optimal = 0\n",
    "    if (pop_fitness == num_parameters).all():\n",
    "        is_optimal = 1\n",
    "    reutrn = is_optimal\n",
    "    "
   ]
  },
  {
   "cell_type": "markdown",
   "metadata": {
    "id": "K32KhZHVgxHI"
   },
   "source": [
    "## Problem size - 8"
   ]
  },
  {
   "cell_type": "code",
   "execution_count": 214,
   "metadata": {
    "colab": {
     "base_uri": "https://localhost:8080/"
    },
    "id": "Dd5chWhXgxHI",
    "outputId": "f83b1a1b-bb86-4057-8c19-0e29e27e53c4",
    "scrolled": false
   },
   "outputs": [
    {
     "name": "stdout",
     "output_type": "stream",
     "text": [
      "Initialized population:\n",
      " [[0 1 0 1 0 1 0 1]\n",
      " [1 1 1 1 1 1 1 1]\n",
      " [0 1 0 1 1 0 1 1]\n",
      " [0 1 0 0 0 1 1 0]]\n",
      "Gen: 0\n",
      "[4 8 5 3]\n",
      "Gen: 1\n",
      "[8 6 7 8]\n",
      "Gen: 2\n",
      "[8 8 8 8]\n",
      "# Final result:\n",
      "[[1 1 1 1 1 1 1 1]\n",
      " [1 1 1 1 1 1 1 1]\n",
      " [1 1 1 1 1 1 1 1]\n",
      " [1 1 1 1 1 1 1 1]]\n",
      "[8 8 8 8]\n"
     ]
    }
   ],
   "source": [
    "num_parameters =  8\n",
    "num_individuals = 4\n",
    "tournament_size = 4\n",
    "np.random.seed(19521832)\n",
    "POPOP_genetic_algorithm(num_individuals, num_parameters, tournament_size)"
   ]
  },
  {
   "cell_type": "markdown",
   "metadata": {
    "id": "0bK0JpPWgxHI"
   },
   "source": [
    "## Problem size - 16"
   ]
  },
  {
   "cell_type": "code",
   "execution_count": 215,
   "metadata": {
    "colab": {
     "base_uri": "https://localhost:8080/"
    },
    "id": "o7qaiketgxHI",
    "outputId": "6ba8fced-7b67-44c6-b610-1a6a4e496337",
    "scrolled": false
   },
   "outputs": [
    {
     "name": "stdout",
     "output_type": "stream",
     "text": [
      "Initialized population:\n",
      " [[0 1 0 1 0 1 0 1 1 1 1 1 1 1 1 1]\n",
      " [0 1 0 1 1 0 1 1 0 1 0 0 0 1 1 0]\n",
      " [0 0 1 1 1 0 1 1 1 0 1 0 0 1 0 0]\n",
      " [0 1 1 1 0 0 0 0 0 1 0 0 0 1 0 1]\n",
      " [1 0 1 1 0 1 1 1 0 0 1 0 1 0 0 0]\n",
      " [0 1 1 0 0 1 1 1 0 0 1 0 0 0 0 0]\n",
      " [1 1 0 1 1 0 1 1 0 1 1 1 0 1 1 1]\n",
      " [0 0 1 1 0 1 1 0 0 0 0 1 1 1 1 0]\n",
      " [1 0 1 1 0 1 1 1 1 0 1 1 0 1 0 1]\n",
      " [1 1 1 0 1 1 0 0 1 1 1 0 0 1 0 1]\n",
      " [0 1 0 0 1 0 1 0 1 1 0 0 1 0 0 0]\n",
      " [0 1 0 0 1 0 0 0 1 0 1 0 0 1 1 1]]\n",
      "Gen: 0\n",
      "[12  8  8  6  8  6 12  8 11 10  6  7]\n",
      "Gen: 1\n",
      "[12 11 12 10 10 11 12 10 12 10 11 11]\n",
      "Gen: 2\n",
      "[13 12 13 12 12 12 12 12 13 13 12 12]\n",
      "Gen: 3\n",
      "[13 13 13 14 13 13 13 13 14 13 13 13]\n",
      "Gen: 4\n",
      "[13 13 14 14 14 13 14 14 13 14 14 14]\n",
      "Gen: 5\n",
      "[14 14 15 15 15 14 14 14 14 15 14 15]\n",
      "Gen: 6\n",
      "[15 15 16 15 15 16 15 16 15 15 15 16]\n",
      "Gen: 7\n",
      "[16 16 16 16 16 16 16 16 15 16 16 16]\n",
      "Gen: 8\n",
      "[16 16 16 16 16 16 16 16 16 16 16 16]\n",
      "# Final result:\n",
      "[[1 1 1 1 1 1 1 1 1 1 1 1 1 1 1 1]\n",
      " [1 1 1 1 1 1 1 1 1 1 1 1 1 1 1 1]\n",
      " [1 1 1 1 1 1 1 1 1 1 1 1 1 1 1 1]\n",
      " [1 1 1 1 1 1 1 1 1 1 1 1 1 1 1 1]\n",
      " [1 1 1 1 1 1 1 1 1 1 1 1 1 1 1 1]\n",
      " [1 1 1 1 1 1 1 1 1 1 1 1 1 1 1 1]\n",
      " [1 1 1 1 1 1 1 1 1 1 1 1 1 1 1 1]\n",
      " [1 1 1 1 1 1 1 1 1 1 1 1 1 1 1 1]\n",
      " [1 1 1 1 1 1 1 1 1 1 1 1 1 1 1 1]\n",
      " [1 1 1 1 1 1 1 1 1 1 1 1 1 1 1 1]\n",
      " [1 1 1 1 1 1 1 1 1 1 1 1 1 1 1 1]\n",
      " [1 1 1 1 1 1 1 1 1 1 1 1 1 1 1 1]]\n",
      "[16 16 16 16 16 16 16 16 16 16 16 16]\n"
     ]
    }
   ],
   "source": [
    "problem_size =  16\n",
    "num_individuals = 12\n",
    "tournament_size = 4\n",
    "np.random.seed(19521832)\n",
    "POPOP_genetic_algorithm(num_individuals, problem_size, tournament_size)"
   ]
  },
  {
   "cell_type": "markdown",
   "metadata": {
    "id": "ecQnpZRngxHJ"
   },
   "source": [
    "## Problem size - 32"
   ]
  },
  {
   "cell_type": "code",
   "execution_count": 216,
   "metadata": {
    "colab": {
     "base_uri": "https://localhost:8080/"
    },
    "id": "hNlLRpVagxHJ",
    "outputId": "b932ef4d-817b-453e-b3fd-7ea5faa32a16",
    "scrolled": false
   },
   "outputs": [
    {
     "name": "stdout",
     "output_type": "stream",
     "text": [
      "Initialized population:\n",
      " [[0 1 0 1 0 1 0 1 1 1 1 1 1 1 1 1 0 1 0 1 1 0 1 1 0 1 0 0 0 1 1 0]\n",
      " [0 0 1 1 1 0 1 1 1 0 1 0 0 1 0 0 0 1 1 1 0 0 0 0 0 1 0 0 0 1 0 1]\n",
      " [1 0 1 1 0 1 1 1 0 0 1 0 1 0 0 0 0 1 1 0 0 1 1 1 0 0 1 0 0 0 0 0]\n",
      " [1 1 0 1 1 0 1 1 0 1 1 1 0 1 1 1 0 0 1 1 0 1 1 0 0 0 0 1 1 1 1 0]\n",
      " [1 0 1 1 0 1 1 1 1 0 1 1 0 1 0 1 1 1 1 0 1 1 0 0 1 1 1 0 0 1 0 1]\n",
      " [0 1 0 0 1 0 1 0 1 1 0 0 1 0 0 0 0 1 0 0 1 0 0 0 1 0 1 0 0 1 1 1]\n",
      " [0 0 0 0 0 0 1 0 0 1 0 1 0 0 0 1 0 0 0 1 1 0 1 0 0 0 1 0 1 0 1 0]\n",
      " [0 0 1 1 1 0 1 1 0 1 0 0 1 0 0 1 1 0 1 0 0 0 0 0 0 0 0 1 0 1 0 0]\n",
      " [1 1 1 0 1 1 1 0 1 1 0 1 1 0 1 0 0 0 0 0 0 0 0 0 1 0 0 0 0 1 0 1]\n",
      " [0 1 1 0 0 1 0 1 0 0 1 1 0 1 0 0 1 0 1 0 0 1 0 1 0 0 1 0 0 0 0 0]\n",
      " [0 0 1 0 1 0 1 0 1 1 0 0 0 0 0 0 1 1 0 0 1 1 1 1 1 0 1 0 0 0 1 1]\n",
      " [0 1 0 0 1 1 0 0 0 0 0 1 1 0 0 1 0 1 0 1 1 1 1 1 1 1 1 1 0 0 1 0]\n",
      " [0 0 0 0 0 1 1 1 1 0 0 1 1 1 1 0 1 1 1 0 1 1 0 1 0 1 0 1 1 0 0 1]\n",
      " [1 0 1 1 0 1 1 1 0 1 0 0 0 0 0 0 1 0 0 0 1 1 1 0 1 1 0 1 1 1 0 0]\n",
      " [1 0 1 1 1 0 0 0 0 1 0 1 0 1 0 0 1 1 0 0 0 0 1 1 0 1 0 1 1 0 1 0]\n",
      " [1 1 1 0 0 0 0 1 0 0 0 0 1 1 1 0 1 0 0 0 1 1 0 0 1 1 0 1 0 1 0 0]\n",
      " [0 0 0 1 0 1 1 0 0 1 1 0 1 0 1 0 1 1 1 0 0 0 0 1 1 1 0 0 0 1 1 1]\n",
      " [1 1 1 1 0 0 0 1 0 1 0 1 0 1 0 0 1 1 1 1 0 0 1 1 1 0 0 0 1 1 0 1]]\n",
      "Gen: 0\n",
      "[20 14 14 20 21 13 10 12 14 12 15 17 18 16 15 14 16 18]\n",
      "Gen: 1\n",
      "[15 21 16 18 20 18 18 19 17 19 18 16 19 18 20 18 21 20]\n",
      "Gen: 2\n",
      "[23 21 21 20 21 19 21 20 19 20 20 21 21 19 21 20 23 21]\n",
      "Gen: 3\n",
      "[25 23 20 22 22 25 21 23 21 21 25 21 23 21 21 25 21 22]\n",
      "Gen: 4\n",
      "[23 23 25 24 25 24 22 23 28 25 25 24 22 25 23 24 23 28]\n",
      "Gen: 5\n",
      "[26 28 25 27 24 26 28 25 25 28 28 26 27 25 26 25 24 25]\n",
      "Gen: 6\n",
      "[28 28 27 26 28 28 27 27 27 28 27 28 28 28 28 27 26 27]\n",
      "Gen: 7\n",
      "[29 28 28 28 28 28 29 28 28 29 28 28 27 28 29 28 28 28]\n",
      "Gen: 8\n",
      "[30 29 29 29 28 29 28 30 29 29 28 29 30 30 28 29 28 30]\n",
      "Gen: 9\n",
      "[30 30 30 30 30 30 29 29 30 30 30 29 29 29 30 29 30 30]\n",
      "Gen: 10\n",
      "[30 31 30 30 30 31 31 31 30 30 31 30 31 30 31 30 30 31]\n",
      "Gen: 11\n",
      "[31 31 31 32 32 31 32 31 31 31 32 31 32 31 31 32 31 31]\n",
      "Gen: 12\n",
      "[32 32 32 32 31 32 32 32 32 32 32 32 32 31 32 32 32 32]\n",
      "Gen: 13\n",
      "[32 32 32 32 32 32 32 32 32 32 32 32 32 32 32 32 32 32]\n",
      "# Final result:\n",
      "[[1 1 1 1 1 1 1 1 1 1 1 1 1 1 1 1 1 1 1 1 1 1 1 1 1 1 1 1 1 1 1 1]\n",
      " [1 1 1 1 1 1 1 1 1 1 1 1 1 1 1 1 1 1 1 1 1 1 1 1 1 1 1 1 1 1 1 1]\n",
      " [1 1 1 1 1 1 1 1 1 1 1 1 1 1 1 1 1 1 1 1 1 1 1 1 1 1 1 1 1 1 1 1]\n",
      " [1 1 1 1 1 1 1 1 1 1 1 1 1 1 1 1 1 1 1 1 1 1 1 1 1 1 1 1 1 1 1 1]\n",
      " [1 1 1 1 1 1 1 1 1 1 1 1 1 1 1 1 1 1 1 1 1 1 1 1 1 1 1 1 1 1 1 1]\n",
      " [1 1 1 1 1 1 1 1 1 1 1 1 1 1 1 1 1 1 1 1 1 1 1 1 1 1 1 1 1 1 1 1]\n",
      " [1 1 1 1 1 1 1 1 1 1 1 1 1 1 1 1 1 1 1 1 1 1 1 1 1 1 1 1 1 1 1 1]\n",
      " [1 1 1 1 1 1 1 1 1 1 1 1 1 1 1 1 1 1 1 1 1 1 1 1 1 1 1 1 1 1 1 1]\n",
      " [1 1 1 1 1 1 1 1 1 1 1 1 1 1 1 1 1 1 1 1 1 1 1 1 1 1 1 1 1 1 1 1]\n",
      " [1 1 1 1 1 1 1 1 1 1 1 1 1 1 1 1 1 1 1 1 1 1 1 1 1 1 1 1 1 1 1 1]\n",
      " [1 1 1 1 1 1 1 1 1 1 1 1 1 1 1 1 1 1 1 1 1 1 1 1 1 1 1 1 1 1 1 1]\n",
      " [1 1 1 1 1 1 1 1 1 1 1 1 1 1 1 1 1 1 1 1 1 1 1 1 1 1 1 1 1 1 1 1]\n",
      " [1 1 1 1 1 1 1 1 1 1 1 1 1 1 1 1 1 1 1 1 1 1 1 1 1 1 1 1 1 1 1 1]\n",
      " [1 1 1 1 1 1 1 1 1 1 1 1 1 1 1 1 1 1 1 1 1 1 1 1 1 1 1 1 1 1 1 1]\n",
      " [1 1 1 1 1 1 1 1 1 1 1 1 1 1 1 1 1 1 1 1 1 1 1 1 1 1 1 1 1 1 1 1]\n",
      " [1 1 1 1 1 1 1 1 1 1 1 1 1 1 1 1 1 1 1 1 1 1 1 1 1 1 1 1 1 1 1 1]\n",
      " [1 1 1 1 1 1 1 1 1 1 1 1 1 1 1 1 1 1 1 1 1 1 1 1 1 1 1 1 1 1 1 1]\n",
      " [1 1 1 1 1 1 1 1 1 1 1 1 1 1 1 1 1 1 1 1 1 1 1 1 1 1 1 1 1 1 1 1]]\n",
      "[32 32 32 32 32 32 32 32 32 32 32 32 32 32 32 32 32 32]\n"
     ]
    }
   ],
   "source": [
    "problem_size =  32\n",
    "num_individuals = 18\n",
    "tournament_size = 4\n",
    "np.random.seed(19521832)\n",
    "POPOP_genetic_algorithm(num_individuals, problem_size, tournament_size)"
   ]
  },
  {
   "cell_type": "markdown",
   "metadata": {
    "id": "yCbGip_zgxHJ"
   },
   "source": [
    "## Problem size - 64"
   ]
  },
  {
   "cell_type": "code",
   "execution_count": 217,
   "metadata": {
    "colab": {
     "base_uri": "https://localhost:8080/"
    },
    "id": "3-tUZeyVgxHJ",
    "outputId": "f8b52851-27d5-424e-97d0-89381f647bf6",
    "scrolled": false
   },
   "outputs": [
    {
     "name": "stdout",
     "output_type": "stream",
     "text": [
      "Initialized population:\n",
      " [[0 1 0 ... 1 0 1]\n",
      " [1 0 1 ... 1 1 0]\n",
      " [1 0 1 ... 1 1 1]\n",
      " ...\n",
      " [0 0 0 ... 1 0 0]\n",
      " [0 0 1 ... 0 0 0]\n",
      " [0 0 0 ... 1 1 1]]\n",
      "Gen: 0\n",
      "[34 34 34 22 26 32 34 29 34 35 29 29 24 28 35 39 33 29 34 26 29 35 31 29\n",
      " 31 34 30 35 38 31 30 31 35 28 33 35 34 26 30 32]\n",
      "Gen: 1\n",
      "[35 38 35 34 34 35 35 37 35 31 34 33 38 30 35 39 36 34 38 34 32 35 35 36\n",
      " 34 38 31 35 33 38 38 35 34 39 33 35 31 35 34 35]\n",
      "Gen: 2\n",
      "[35 38 35 35 38 36 38 39 37 39 38 40 37 36 37 39 42 38 38 37 42 38 37 35\n",
      " 39 37 35 37 35 35 38 38 39 39 38 39 38 36 40 38]\n",
      "Gen: 3\n",
      "[39 44 43 42 42 46 38 39 37 38 43 42 39 40 39 37 41 40 40 42 42 44 43 40\n",
      " 43 39 42 38 42 40 42 38 41 38 42 39 38 46 39 39]\n",
      "Gen: 4\n",
      "[44 41 43 42 46 43 48 41 43 43 44 42 42 43 43 42 49 42 43 46 46 43 42 44\n",
      " 42 46 44 43 43 44 42 38 43 42 42 42 48 49 41 41]\n",
      "Gen: 5\n",
      "[46 44 48 44 44 51 44 43 49 48 46 50 44 48 48 46 47 43 48 49 48 48 48 49\n",
      " 44 45 44 51 49 43 48 46 47 44 50 43 48 46 46 43]\n",
      "Gen: 6\n",
      "[48 49 49 51 51 50 48 46 49 48 51 49 49 50 50 46 49 50 49 48 49 50 48 46\n",
      " 49 49 47 51 50 49 48 48 47 49 48 49 51 51 48 50]\n",
      "Gen: 7\n",
      "[49 50 50 54 50 53 49 51 50 51 54 51 52 50 50 51 49 51 52 52 49 52 50 51\n",
      " 50 54 51 50 50 49 51 50 52 51 51 49 54 51 53 50]\n",
      "Gen: 8\n",
      "[51 56 54 53 52 54 55 51 50 51 54 54 54 54 52 52 52 54 51 51 51 54 54 54\n",
      " 52 53 56 52 54 53 50 51 51 51 54 54 54 51 52 55]\n",
      "Gen: 9\n",
      "[52 56 55 53 54 54 52 54 56 55 56 55 54 55 53 55 57 55 54 54 56 56 52 54\n",
      " 54 53 55 55 55 56 54 54 55 57 54 54 55 53 54 54]\n",
      "Gen: 10\n",
      "[55 57 57 55 55 55 56 57 56 56 55 57 57 57 57 54 56 56 56 56 57 56 57 57\n",
      " 57 56 57 56 55 56 54 57 56 56 56 57 56 55 56 56]\n",
      "Gen: 11\n",
      "[59 57 57 55 58 57 58 57 59 57 57 57 57 57 58 58 56 57 58 58 59 58 56 58\n",
      " 57 58 57 57 56 58 58 57 59 57 57 57 57 58 58 56]\n",
      "Gen: 12\n",
      "[60 58 58 57 59 59 59 58 58 58 59 59 59 58 59 59 58 61 59 58 58 59 58 58\n",
      " 59 61 57 59 58 59 58 59 59 60 59 58 58 59 58 58]\n",
      "Gen: 13\n",
      "[59 59 59 60 60 61 60 61 59 59 59 62 60 59 60 61 61 59 60 59 59 61 61 58\n",
      " 59 60 59 61 61 59 60 60 59 60 61 62 59 60 60 58]\n",
      "Gen: 14\n",
      "[60 61 63 60 61 61 60 61 61 62 61 60 60 61 61 60 61 62 61 61 62 62 61 63\n",
      " 61 61 61 61 61 61 61 60 61 60 61 60 61 61 61 61]\n",
      "Gen: 15\n",
      "[62 62 62 62 62 62 63 63 62 63 62 61 63 62 61 62 61 62 63 61 62 62 61 62\n",
      " 63 62 62 63 62 62 61 62 61 61 63 61 63 63 63 61]\n",
      "Gen: 16\n",
      "[62 63 63 62 62 63 63 62 63 63 62 62 63 63 63 63 62 63 63 62 63 63 63 63\n",
      " 63 62 63 63 63 63 62 63 63 62 63 63 62 62 63 63]\n",
      "Gen: 17\n",
      "[64 64 63 63 63 64 63 64 63 63 64 63 63 63 63 64 63 63 63 63 63 63 63 64\n",
      " 63 63 64 63 63 63 64 63 63 64 63 63 63 64 63 63]\n",
      "Gen: 18\n",
      "[64 64 64 63 64 64 63 64 64 64 64 64 64 64 64 64 64 63 64 63 63 64 64 64\n",
      " 63 64 64 63 63 64 64 64 63 64 64 64 63 64 64 64]\n",
      "Gen: 19\n",
      "[64 64 64 64 64 64 64 64 64 64 64 64 64 64 64 64 64 64 64 64 64 64 64 64\n",
      " 64 64 64 64 64 64 64 64 64 64 64 64 64 64 64 64]\n",
      "# Final result:\n",
      "[[1 1 1 ... 1 1 1]\n",
      " [1 1 1 ... 1 1 1]\n",
      " [1 1 1 ... 1 1 1]\n",
      " ...\n",
      " [1 1 1 ... 1 1 1]\n",
      " [1 1 1 ... 1 1 1]\n",
      " [1 1 1 ... 1 1 1]]\n",
      "[64 64 64 64 64 64 64 64 64 64 64 64 64 64 64 64 64 64 64 64 64 64 64 64\n",
      " 64 64 64 64 64 64 64 64 64 64 64 64 64 64 64 64]\n"
     ]
    }
   ],
   "source": [
    "problem_size =  64\n",
    "num_individuals = 40\n",
    "tournament_size = 4\n",
    "np.random.seed(19521832)\n",
    "POPOP_genetic_algorithm(num_individuals, problem_size, tournament_size)"
   ]
  },
  {
   "cell_type": "markdown",
   "metadata": {
    "id": "BZYuVRKSgxHL"
   },
   "source": [
    "## Problem size - 128"
   ]
  },
  {
   "cell_type": "code",
   "execution_count": 218,
   "metadata": {
    "colab": {
     "base_uri": "https://localhost:8080/"
    },
    "id": "iOjN01V8gxHL",
    "outputId": "a4bfc558-29e4-4fdd-c3fa-4e44ce38d08f",
    "scrolled": false
   },
   "outputs": [
    {
     "name": "stdout",
     "output_type": "stream",
     "text": [
      "Initialized population:\n",
      " [[0 1 0 ... 1 1 0]\n",
      " [1 0 1 ... 1 0 0]\n",
      " [1 1 1 ... 0 1 0]\n",
      " ...\n",
      " [0 0 0 ... 0 0 1]\n",
      " [1 0 0 ... 0 0 1]\n",
      " [0 0 1 ... 1 1 0]]\n",
      "Gen: 0\n",
      "[68 56 58 63 69 58 52 74 62 60 64 60 65 65 69 61 63 68 60 62 56 66 61 65\n",
      " 71 69 62 63 59 64 63 61 65 70 59 81 62 68 79 59 54 68 62 59 52 59 61 59\n",
      " 63 63 58 62 60 69 81 60 56 59 54 69 57 64 72 65 68 56 69 65 55 59 65 64\n",
      " 55 62 61 63]\n",
      "Gen: 1\n",
      "[67 62 68 72 71 68 72 79 67 69 59 68 81 63 68 64 61 72 69 65 69 74 81 68\n",
      " 65 67 76 68 65 65 75 73 65 68 69 72 68 68 65 76 64 68 71 68 73 62 67 69\n",
      " 68 68 65 63 71 64 59 69 81 65 62 72 72 65 81 65 66 74 70 68 70 69 67 71\n",
      " 72 69 79 68]\n",
      "Gen: 2\n",
      "[77 77 72 69 73 77 77 72 73 70 76 79 73 71 80 77 75 81 72 73 70 69 70 79\n",
      " 68 73 79 72 69 75 73 81 68 81 71 68 72 73 72 72 72 77 68 70 71 72 74 77\n",
      " 81 68 70 73 73 79 76 70 70 68 75 81 69 65 81 70 77 79 73 73 73 80 81 69\n",
      " 72 76 74 72]\n",
      "Gen: 3\n",
      "[70 80 73 80 79 81 85 81 81 79 77 75 81 77 79 72 76 79 77 76 74 73 73 81\n",
      " 79 81 81 81 79 79 80 77 75 83 77 78 77 77 78 81 73 75 81 78 81 81 77 79\n",
      " 77 77 78 80 77 76 77 74 81 74 72 83 80 76 81 77 81 73 75 79 85 79 79 76\n",
      " 81 79 81 74]\n",
      "Gen: 4\n",
      "[85 79 81 85 88 81 78 81 82 90 79 81 85 82 79 81 84 85 81 78 81 81 85 85\n",
      " 81 81 81 81 83 80 78 78 83 80 84 81 82 79 78 82 80 81 79 81 83 83 81 88\n",
      " 85 81 82 80 85 80 84 85 81 85 78 81 85 82 81 79 85 81 81 79 82 78 81 85\n",
      " 81 80 90 84]\n",
      "Gen: 5\n",
      "[81 85 90 87 83 83 85 85 85 91 83 83 84 84 87 88 81 83 86 84 85 88 90 85\n",
      " 85 84 85 85 87 86 90 83 85 89 85 85 87 88 85 82 89 81 86 87 88 83 82 84\n",
      " 88 85 91 85 81 83 83 85 86 82 87 85 85 85 86 87 88 84 85 85 87 85 83 90\n",
      " 90 90 84 83]\n",
      "Gen: 6\n",
      "[90 93 87 87 88 91 92 88 86 87 89 87 89 91 91 86 89 90 90 87 89 88 87 95\n",
      " 90 89 89 86 94 88 90 94 89 90 86 88 87 90 88 85 88 88 92 88 86 91 89 91\n",
      " 94 86 87 94 88 93 90 89 89 88 87 90 86 90 90 87 90 89 89 87 91 95 89 90\n",
      " 86 89 89 87]\n",
      "Gen: 7\n",
      "[94 93 93 94 91 90 90 93 92 92 91 90 92 97 95 98 92 91 89 96 89 92 92 88\n",
      " 91 89 95 93 92 93 92 94 91 91 94 94 94 94 91 96 92 94 89 90 92 91 92 92\n",
      " 94 94 91 93 95 95 89 98 90 93 89 94 92 92 94 91 92 90 89 92 93 91 91 90\n",
      " 90 97 94 90]\n",
      "Gen: 8\n",
      "[ 94  97  98  94  95  95  97  93  98  93 100  95  92  98  94  94  95  95\n",
      "  96  95  95  95  96  98  94  94 101  94  95  91 101 102  95  99  98  97\n",
      "  94  91  96  93  94  94  99  98  92  94  93  97 101  96  95  96  93  94\n",
      "  95  94  97  96  94  98 102  98  97  94 100  98 101  95  94  93  95  91\n",
      "  98  95  95  94]\n",
      "Gen: 9\n",
      "[ 97 100 100 101  98  98 101  98 102  97 104  96  97  98  98  98  97 102\n",
      "  99  97 101  97  98  97  99 101 102 100 101  96 100 101  98 105 100  95\n",
      "  98  97 100 100 100  97  98  96  97  99  98  98  99 101  98 100 101  96\n",
      " 102  95  95  97 102 104 101 101  98  95 101  98  98 101  97 101  98 100\n",
      "  94  99 105  96]\n",
      "Gen: 10\n",
      "[ 99  98 102 102 101 101 101 102  97 105 102 102 101 101  99 103 100 105\n",
      " 101  98 102 101 104 102 102 102 100 105 100 103 100 103 103  98  98 105\n",
      " 104 102 101 105 105 103 101 105 101 102  98 102 101 102  99 101 102  99\n",
      "  99 103 100 100 100 101 102 101 102 102 101 103 101 101 104 102 103 105\n",
      " 100 104  98 102]\n",
      "Gen: 11\n",
      "[105 103 102 109 104 103 106 102 105 103 101 103 109 105 101 102 105 105\n",
      " 107 104 105 104 103 102 104 102 102 102 105 104 105 103 104 104 103 105\n",
      " 105 106 103 103 105 102 105 109 107 103 102 103 102 105 105 104 105 105\n",
      " 105 105 101 104 103 106 103 101 105 105 109 106 105 103 104 104 105 104\n",
      " 105 104 105 104]\n",
      "Gen: 12\n",
      "[105 107 109 106 104 105 109 105 104 106 104 110 105 107 111 109 107 107\n",
      " 109 106 104 107 111 106 108 109 104 107 105 107 106 107 104 106 106 109\n",
      " 109 103 109 105 106 103 105 111 105 107 107 105 109 104 109 103 105 109\n",
      " 109 106 104 111 108 109 109 106 107 105 104 105 110 106 107 105 105 106\n",
      " 107 106 105 107]\n",
      "Gen: 13\n",
      "[110 109 108 109 111 113 112 111 109 111 111 112 106 109 107 110 108 107\n",
      " 111 110 107 112 113 109 108 109 107 111 107 109 110 106 108 106 107 112\n",
      " 112 105 109 109 109 110 110 110 107 109 109 110 106 108 107 111 112 109\n",
      " 107 107 109 109 113 112 107 109 108 108 113 111 113 112 110 107 111 108\n",
      " 111 112 111 112]\n",
      "Gen: 14\n",
      "[111 111 113 109 114 113 112 110 116 112 113 112 111 109 110 113 115 111\n",
      " 112 111 112 113 113 112 112 113 114 112 113 112 112 110 112 111 114 113\n",
      " 112 112 109 112 109 111 113 114 109 113 110 111 112 111 113 109 112 111\n",
      " 111 112 113 113 116 111 112 111 112 110 112 115 114 108 112 114 110 110\n",
      " 113 111 112 112]\n",
      "Gen: 15\n",
      "[114 112 112 114 112 112 115 111 112 112 113 112 114 116 114 121 113 118\n",
      " 113 112 114 113 113 114 114 114 114 114 116 113 114 112 116 113 115 113\n",
      " 115 116 114 113 114 114 114 112 113 112 113 114 115 115 113 114 113 114\n",
      " 114 116 112 113 112 112 114 121 116 113 115 113 116 113 112 118 114 114\n",
      " 113 113 116 111]\n",
      "Gen: 16\n",
      "[114 116 114 117 116 118 118 116 115 119 116 118 118 117 118 115 116 115\n",
      " 116 116 114 114 118 115 116 113 115 121 115 115 115 116 116 114 119 121\n",
      " 114 114 114 116 116 115 119 118 114 116 113 117 116 115 116 119 115 116\n",
      " 116 115 114 118 121 114 118 117 113 116 115 115 116 118 115 114 121 116\n",
      " 116 115 116 118]\n",
      "Gen: 17\n",
      "[121 120 118 121 118 117 118 120 119 119 119 119 117 117 119 119 121 118\n",
      " 119 116 117 116 117 119 118 121 120 117 121 118 118 116 121 119 120 119\n",
      " 118 121 121 119 117 118 119 121 119 116 119 117 118 116 119 115 121 118\n",
      " 118 116 119 121 119 118 119 121 118 120 116 119 121 118 117 120 119 121\n",
      " 119 116 116 120]\n",
      "Gen: 18\n",
      "[119 119 121 119 120 123 119 118 123 124 119 121 121 119 119 121 119 121\n",
      " 118 122 121 121 120 121 121 122 119 124 121 121 120 120 121 123 122 121\n",
      " 122 121 121 121 123 119 121 121 120 121 124 122 120 120 121 121 118 121\n",
      " 120 121 123 124 120 121 119 121 119 120 121 123 121 122 122 119 120 121\n",
      " 122 120 120 120]\n",
      "Gen: 19\n",
      "[121 123 124 123 124 124 123 121 123 124 124 121 120 122 122 125 122 122\n",
      " 121 121 123 124 123 121 123 122 122 125 122 121 123 121 123 122 121 123\n",
      " 122 124 122 122 123 122 124 123 124 122 122 125 121 122 125 122 123 122\n",
      " 123 123 121 123 121 122 124 121 123 124 123 121 124 124 122 121 121 122\n",
      " 122 120 124 122]\n",
      "Gen: 20\n",
      "[124 123 125 124 124 125 123 124 123 124 125 124 124 124 123 123 124 123\n",
      " 124 126 123 124 126 124 123 124 125 125 123 125 122 122 123 123 124 124\n",
      " 123 124 124 124 122 124 125 123 125 123 124 126 123 123 123 124 124 124\n",
      " 122 123 125 124 123 124 122 124 124 123 124 126 124 124 123 123 124 122\n",
      " 124 124 125 125]\n",
      "Gen: 21\n",
      "[126 125 125 125 125 125 124 126 124 125 124 124 126 124 125 125 125 124\n",
      " 124 124 125 125 124 126 125 125 124 126 125 124 124 126 126 124 125 125\n",
      " 124 125 125 125 126 125 126 125 125 126 124 124 126 126 124 125 124 125\n",
      " 125 125 125 125 124 126 126 126 125 124 125 125 125 125 124 124 124 124\n",
      " 125 125 124 124]\n",
      "Gen: 22\n",
      "[125 125 127 125 125 125 126 126 126 126 125 126 126 125 127 124 125 125\n",
      " 127 126 127 126 124 126 126 126 125 126 125 125 125 126 126 125 127 127\n",
      " 125 127 126 125 126 126 127 126 126 125 126 126 126 127 126 125 125 127\n",
      " 125 126 125 126 126 125 126 126 126 125 126 125 125 126 126 125 126 126\n",
      " 125 127 127 127]\n",
      "Gen: 23\n",
      "[126 127 127 126 127 126 127 127 126 127 127 127 126 127 127 127 127 126\n",
      " 126 126 126 126 127 126 126 127 127 127 126 127 127 126 126 126 127 126\n",
      " 126 127 127 126 127 126 126 127 126 126 126 127 127 127 127 127 126 127\n",
      " 127 126 126 127 126 127 126 126 126 127 127 126 126 127 127 126 126 127\n",
      " 127 127 127 127]\n",
      "Gen: 24\n",
      "[127 127 127 127 127 126 127 127 128 127 127 127 127 127 127 127 127 127\n",
      " 127 127 127 127 127 127 127 127 127 127 127 127 126 127 127 127 127 127\n",
      " 127 127 127 127 127 127 127 127 127 127 127 127 126 127 127 127 127 127\n",
      " 127 127 127 127 127 127 127 127 127 127 127 127 128 127 127 127 127 127\n",
      " 127 127 127 127]\n",
      "Gen: 25\n",
      "[127 127 127 127 127 127 127 127 127 127 128 127 127 127 127 128 127 127\n",
      " 127 127 127 127 128 127 127 127 127 127 127 127 127 127 127 127 127 127\n",
      " 127 128 127 127 127 127 128 127 127 127 127 127 127 127 127 127 128 127\n",
      " 127 127 127 127 127 127 127 127 127 127 127 127 127 127 127 127 128 127\n",
      " 127 127 127 127]\n",
      "Gen: 26\n",
      "[127 128 127 127 127 127 128 127 128 128 128 127 127 127 127 127 127 128\n",
      " 127 127 127 128 128 127 127 127 128 127 127 127 128 128 127 127 128 127\n",
      " 127 127 127 128 127 128 127 127 127 127 127 128 128 128 127 128 127 127\n",
      " 127 127 127 127 127 127 127 127 127 128 127 128 127 128 127 128 127 128\n",
      " 127 128 128 127]\n",
      "Gen: 27\n",
      "[128 127 128 127 128 128 128 128 128 128 127 127 128 128 127 128 128 128\n",
      " 128 128 128 128 128 128 128 128 127 127 127 128 127 128 128 128 128 128\n",
      " 127 128 128 128 128 128 128 128 128 128 127 128 128 127 128 128 128 128\n",
      " 128 128 128 128 128 128 128 128 128 128 128 127 128 128 128 127 128 128\n",
      " 128 127 128 128]\n",
      "Gen: 28\n",
      "[128 128 128 128 128 128 128 128 128 128 128 128 128 128 128 128 128 128\n",
      " 128 128 128 128 128 128 128 128 128 128 128 128 128 128 128 128 128 128\n",
      " 128 128 128 128 128 128 128 128 128 128 128 128 128 128 128 128 128 128\n",
      " 128 128 128 128 128 128 128 128 128 128 128 128 128 128 128 128 128 128\n",
      " 128 128 128 128]\n",
      "# Final result:\n",
      "[[1 1 1 ... 1 1 1]\n",
      " [1 1 1 ... 1 1 1]\n",
      " [1 1 1 ... 1 1 1]\n",
      " ...\n",
      " [1 1 1 ... 1 1 1]\n",
      " [1 1 1 ... 1 1 1]\n",
      " [1 1 1 ... 1 1 1]]\n",
      "[128 128 128 128 128 128 128 128 128 128 128 128 128 128 128 128 128 128\n",
      " 128 128 128 128 128 128 128 128 128 128 128 128 128 128 128 128 128 128\n",
      " 128 128 128 128 128 128 128 128 128 128 128 128 128 128 128 128 128 128\n",
      " 128 128 128 128 128 128 128 128 128 128 128 128 128 128 128 128 128 128\n",
      " 128 128 128 128]\n"
     ]
    }
   ],
   "source": [
    "problem_size =  128\n",
    "num_individuals = 76\n",
    "tournament_size = 4\n",
    "np.random.seed(19521832)\n",
    "POPOP_genetic_algorithm(num_individuals, problem_size, tournament_size)"
   ]
  },
  {
   "cell_type": "markdown",
   "metadata": {
    "id": "DunHmt7qgxHL"
   },
   "source": [
    "# 3 - Thống kê và nhận xét"
   ]
  },
  {
   "cell_type": "markdown",
   "metadata": {
    "id": "bXHWH6CXgxHL"
   },
   "source": [
    "**Thống kê kết quả**:\n",
    "\n",
    "| Problem size | Population size | Generations |\n",
    "| :-----------: | :------------: |:---------: |\n",
    "| 8 | 4 | 2 |\n",
    "| 16 | 12 | 8 |\n",
    "| 32 | 18 | 13 |\n",
    "| 64 | 40 | 19 |\n",
    "| 128 | 76 | 28 |"
   ]
  },
  {
   "cell_type": "code",
   "execution_count": 219,
   "metadata": {
    "colab": {
     "base_uri": "https://localhost:8080/",
     "height": 334
    },
    "id": "LfM7XiPs9Z2_",
    "outputId": "6c80eb84-ece6-463f-e8fa-2ed2128f961a"
   },
   "outputs": [
    {
     "data": {
      "image/png": "[encoded data removed]",
      "text/plain": [
       "<Figure size 720x360 with 2 Axes>"
      ]
     },
     "metadata": {
      "needs_background": "light"
     },
     "output_type": "display_data"
    }
   ],
   "source": [
    "# visualize result\n",
    "import matplotlib.pyplot as plt\n",
    "\n",
    "problem_size = np.array([8, 16, 32, 64, 128])\n",
    "population_size = np.array([4, 12, 18, 40, 76])\n",
    "generations = np.array([2, 8, 13, 13, 28])\n",
    "log_problem_size = np.log2(problem_size)\n",
    "\n",
    "fig, ax = plt.subplots(1, 2, figsize=(10, 5))\n",
    "ax[0].plot(log_problem_size, population_size, color='red', label='popolation_size')\n",
    "ax[0].set_xlabel('Problem size')\n",
    "ax[0].set_ylabel('Population size')\n",
    "ax[0].legend()\n",
    "\n",
    "ax[1].plot(log_problem_size, generations, color='blue', label='generations')\n",
    "ax[1].set_xlabel('Problem size')\n",
    "ax[1].set_ylabel('Generations')\n",
    "ax[1].legend()\n",
    "\n",
    "plt.show()"
   ]
  },
  {
   "cell_type": "markdown",
   "metadata": {
    "id": "IOod6Gei_gKa"
   },
   "source": [
    "**Nhận xét**\n",
    "\n",
    "Thuật toán POPOP (với random seed: 19521832) có kết quả:\n",
    "* Khi problem size tăng thì population size và generations cũng tăng, tức cần kích thước quần thể lớn hơn và cần qua nhiều thế hệ hơn để giải quyết problem size lớn hơn\n",
    "\n",
    "**Ưu điểm của POPOP**\n",
    " * Với cài đặt tournament selection, fitness có thể âm có thể dương, có ưu điểm hơn proportional selection\n",
    " * Đáp ứng được tính Elitsm"
   ]
  }
 ],
 "metadata": {
  "anaconda-cloud": {},
  "colab": {
   "collapsed_sections": [],
   "provenance": [],
   "toc_visible": true
  },
  "kernelspec": {
   "display_name": "Python 3 (ipykernel)",
   "language": "python",
   "name": "python3"
  },
  "language_info": {
   "codemirror_mode": {
    "name": "ipython",
    "version": 3
   },
   "file_extension": ".py",
   "mimetype": "text/x-python",
   "name": "python",
   "nbconvert_exporter": "python",
   "pygments_lexer": "ipython3",
   "version": "3.10.7"
  }
 },
 "nbformat": 4,
 "nbformat_minor": 1
}

{
 "cells": [
  {
   "cell_type": "markdown",
   "id": "a942d4f0",
   "metadata": {},
   "source": [
    "# 1 - Packages"
   ]
  },
  {
   "cell_type": "code",
   "execution_count": 1,
   "id": "075c06ed",
   "metadata": {},
   "outputs": [],
   "source": [
    "import numpy as np"
   ]
  },
  {
   "cell_type": "markdown",
   "id": "adfae78e",
   "metadata": {},
   "source": [
    "# 2 - Code\n"
   ]
  },
  {
   "cell_type": "code",
   "execution_count": 2,
   "id": "947dcfae",
   "metadata": {},
   "outputs": [],
   "source": [
    "def initialize_population( num_individuals, num_variables ):\n",
    "    \"\"\"\n",
    "    Khởi tạo quần thể gồm num_individuals cá thể. Mỗi cá thể có num_parameters biến.\n",
    "    \n",
    "    Arguments:\n",
    "    num_individuals -- Số lượng cá thể\n",
    "    num_variables -- Số lượng biến\n",
    "    \n",
    "    Returns:\n",
    "    pop -- Ma trận (num_individuals, num_variables ) chứa quần thể mới được khởi tạo ngẫu nhiên.\n",
    "    \"\"\"\n",
    "    \n",
    "    ### BẮT ĐẦU CODE TỪ ĐÂY ### \n",
    "    pop = np.random.randint(2, size=(num_individuals, num_variables))\n",
    "    \n",
    "    ### DỪNG CODE TẠI ĐÂY ###\n",
    "    \n",
    "    return pop"
   ]
  },
  {
   "cell_type": "code",
   "execution_count": 3,
   "id": "841ee282",
   "metadata": {},
   "outputs": [],
   "source": [
    "def onemax( ind ):\n",
    "    \"\"\"\n",
    "    Hàm đánh giá OneMax: Đếm số bit 1 trong chuỗi nhị phân (cá thể ind).\n",
    "    \n",
    "    Arguments:\n",
    "    ind -- Cá thể cần được đánh giá.\n",
    "\n",
    "    Returns:\n",
    "    value -- Giá trị của cá thể ind.\n",
    "    \"\"\"\n",
    "    \n",
    "    ### BẮT ĐẦU CODE TỪ ĐÂY ###     \n",
    "    value = np.sum(ind)\n",
    "    \n",
    "    ### DỪNG CODE TẠI ĐÂY ###\n",
    "    \n",
    "    return value"
   ]
  },
  {
   "cell_type": "code",
   "execution_count": 4,
   "id": "1c945587",
   "metadata": {},
   "outputs": [],
   "source": [
    "def crossover_UX( pop ):\n",
    "    \"\"\"\n",
    "    Hàm biến đổi tạo ra các cá thể con.\n",
    "    \n",
    "    Arguments:\n",
    "    pop -- Quàn thể hiện tại.\n",
    "\n",
    "    Returns:\n",
    "    offspring -- Quần thể chứa các cá thể con được sinh ra.\n",
    "    \"\"\"  \n",
    "    \n",
    "    ### BẮT ĐẦU CODE TỪ ĐÂY ### \n",
    "    num_individuals = len(pop)\n",
    "    num_parameters = len(pop[0])\n",
    "    indices = np.arange(num_individuals)\n",
    "    # Đảo ngẫu nhiên thứ tự các cá thể trong quần thể\n",
    "    np.random.shuffle(indices)\n",
    "    offspring = []\n",
    "    \n",
    "    for i in range(0, num_individuals, 2):\n",
    "        idx1 = indices[i]\n",
    "        idx2 = indices[i+1]\n",
    "        offspring1 = list(pop[idx1])\n",
    "        offspring2 = list(pop[idx2])\n",
    "        \n",
    "        # Cài đặt phép lai đồng nhất uniform crossover. \n",
    "        # Không cần cài đặt đột biến mutation.\n",
    "        for idx in range(0, num_parameters):\n",
    "            r = np.random.rand()\n",
    "            if r < 0.5:\n",
    "                temp = offspring2[idx] \n",
    "                offspring2[idx] = offspring1[idx]\n",
    "                offspring1[idx] = temp\n",
    "\n",
    "        offspring.append(offspring1)\n",
    "        offspring.append(offspring2)\n",
    "\n",
    "\n",
    "    ### DỪNG CODE TẠI ĐÂY ###\n",
    "    \n",
    "    offspring = np.array(offspring)\n",
    "    return offspring"
   ]
  },
  {
   "cell_type": "code",
   "execution_count": 10,
   "id": "1c5bfb2a",
   "metadata": {},
   "outputs": [],
   "source": [
    "def tournament_selection(parent_population, parent_fitness, population_size, tourament_size):\n",
    "    \n",
    "    \"\"\"\n",
    "    \n",
    "    \"\"\"\n",
    "\n",
    "    n_tournament = len(parent_population) // tournament_size\n",
    "    n_loop = population_size // n_tournament\n",
    "    selected_indices = []\n",
    "    \n",
    "    indices = np.arange(len(parent_population))\n",
    "    \n",
    "    for i in range(n_loop):\n",
    "        np.random.shuffle(indices)\n",
    "        \n",
    "        for tournament in range(n_tournament):\n",
    "            \n",
    "            begin_point = tournament * tournament_size\n",
    "            \n",
    "            tournament_indices = indices[begin_point:begin_point+tournament_size]\n",
    "            \n",
    "            idx_max = np.argmax(parent_fitness[tournament_indices])\n",
    "            \n",
    "            selected_indices.append(tournament_indices[idx_max])\n",
    "        \n",
    "    return np.array(selected_indices)"
   ]
  },
  {
   "cell_type": "code",
   "execution_count": 11,
   "id": "59fa4d11",
   "metadata": {},
   "outputs": [],
   "source": [
    "def convergence(pop):\n",
    "    \"\"\"\n",
    "    Convergence when individuals is all the same ==> row is all the same\n",
    "    Args: \n",
    "        - Population: (n_individuals, n_variables)\n",
    "    Return:\n",
    "        - True if all inds same else False\n",
    "    \"\"\"\n",
    "    n_ind, n_var = pop.shape\n",
    "    \n",
    "    # sum all row\n",
    "    arr = pop.sum(axis=0)\n",
    "    \n",
    "    for i in range(n_var):\n",
    "        if arr[i] != 0 and arr[i] != n_ind:\n",
    "            return False\n",
    "    return True"
   ]
  },
  {
   "cell_type": "code",
   "execution_count": 12,
   "id": "1930338b",
   "metadata": {},
   "outputs": [],
   "source": [
    "def POPOP_genetic_algorithm(num_individuals, num_parameters, tournament_size):\n",
    "    \n",
    "    \"\"\"\n",
    "    \n",
    "    \"\"\"\n",
    "    \n",
    "    # Initialize individuals\n",
    "    pop = initialize_population(num_individuals, num_parameters)\n",
    "    pop_fitness = np.array([onemax(ind) for ind in pop])\n",
    "    \n",
    "    num_of_evaluations = len(pop)\n",
    "    \n",
    "    generations = 0\n",
    "#     print(f'Gen: 0')\n",
    "#     print(pop_fitness)\n",
    "    \n",
    "    while True:\n",
    "        # check convergence of population\n",
    "        if convergence(pop) == True: \n",
    "            break  \n",
    "        # if not converge, create new generation\n",
    "        generations += 1\n",
    "            \n",
    "        # Create offstring use crossover, do not use mutation\n",
    "        offstring = crossover_UX(pop)\n",
    "        offstring_fitness = np.array([onemax(ind) for ind in offstring])\n",
    "        num_of_evaluations += len(offstring)\n",
    "        \n",
    "        \n",
    "        # P + O pool\n",
    "        P_O_pool = np.vstack((pop, offstring))\n",
    "        P_O_pool_fitness = np.hstack((pop_fitness, offstring_fitness))\n",
    "        \n",
    "        # Select parent for next generation\n",
    "        selected_indices = tournament_selection(P_O_pool, P_O_pool_fitness, num_individuals, tournament_size)\n",
    "        pop = P_O_pool[selected_indices]\n",
    "        pop_fitness = P_O_pool_fitness[selected_indices]\n",
    "        \n",
    "#         print(f'Gen: {generations}') \n",
    "#         print(pop_fitness)\n",
    "        \n",
    "#     print('# Final result:')\n",
    "#     print(pop)\n",
    "#     print(pop_fitness)\n",
    "        \n",
    "    # return 1 if can find optimal solution else 0      \n",
    "    is_optimal = 0\n",
    "    if (pop_fitness == num_parameters).all():\n",
    "        is_optimal = 1\n",
    "    return is_optimal, num_of_evaluations"
   ]
  },
  {
   "cell_type": "code",
   "execution_count": 20,
   "id": "bbad2935",
   "metadata": {},
   "outputs": [
    {
     "data": {
      "text/plain": [
       "(1, 12)"
      ]
     },
     "execution_count": 20,
     "metadata": {},
     "output_type": "execute_result"
    }
   ],
   "source": [
    "# test POPOP_genetic_algorithm\n",
    "problem_size = 8\n",
    "population_size = 4\n",
    "tournament_size = 4\n",
    "np.random.seed(19521832)\n",
    "POPOP_genetic_algorithm(population_size, problem_size, tournament_size)"
   ]
  },
  {
   "cell_type": "code",
   "execution_count": 16,
   "id": "f093f635",
   "metadata": {},
   "outputs": [],
   "source": [
    "def pass_10_test(population_size, problem_size, tournament_size, random_seed):\n",
    "    \"\"\"\n",
    "    run 10 time POPOP_genetic_algorithm with random seed start at random_seed and end at random_seed+9\n",
    "    \n",
    "    Args: \n",
    "        - Population_size\n",
    "        - problem_size\n",
    "        - tournament_size\n",
    "        - random_seed\n",
    "    Returns:\n",
    "        - success_10_time: True if POPOP_genetic_algorithm can find 10 optimal solution else False\n",
    "        - average_number_of_evaluations: average num of onemax call over 10 runs POPOP_genetic_algorithm\n",
    "    \"\"\"\n",
    "    \n",
    "    success_10_time = True\n",
    "    num_evaluations = []\n",
    "    for i in range(10):\n",
    "        np.random.seed(random_seed + i)\n",
    "        success, num_evaluation = POPOP_genetic_algorithm(population_size, problem_size, tournament_size)\n",
    "        num_evaluations.append(num_evaluation)\n",
    "        if success == 0:\n",
    "            success_10_time = False\n",
    "            break\n",
    "        \n",
    "    average_number_of_evaluations = np.mean(num_evaluations)\n",
    "    \n",
    "    return success_10_time, average_number_of_evaluations"
   ]
  },
  {
   "cell_type": "code",
   "execution_count": 18,
   "id": "2f2c915b",
   "metadata": {
    "scrolled": false
   },
   "outputs": [
    {
     "name": "stdout",
     "output_type": "stream",
     "text": [
      "success: False\n",
      "average_number_of_evaluations: 16.0\n"
     ]
    }
   ],
   "source": [
    "problem_size = 8\n",
    "population_size = 4\n",
    "tournament_size = 4\n",
    "test, ane = pass_10_test(population_size, problem_size, tournament_size, random_seed=19521832)\n",
    "print(f'success: {test}')\n",
    "print(f'average_number_of_evaluations: {ane}')"
   ]
  },
  {
   "cell_type": "code",
   "execution_count": 132,
   "id": "d918a138",
   "metadata": {},
   "outputs": [
    {
     "data": {
      "text/plain": [
       "(True, 142.0)"
      ]
     },
     "execution_count": 132,
     "metadata": {},
     "output_type": "execute_result"
    }
   ],
   "source": [
    "# test 10 time with 10 random seed\n",
    "problem_size = 10\n",
    "population_size = 20\n",
    "tournament_size = 4\n",
    "pass_10_test(population_size, problem_size, tournament_size, random_seed=19521832)"
   ]
  },
  {
   "cell_type": "code",
   "execution_count": 21,
   "id": "ceba3501",
   "metadata": {},
   "outputs": [],
   "source": [
    "def upper_bound(problem_size, tournament_size, random_seed):\n",
    "    \"\"\"\n",
    "    \n",
    "    \"\"\"\n",
    "    limited_N_upper = 8192\n",
    "    N_upper = 4\n",
    "    success = False\n",
    "    while success == False:\n",
    "        N_upper *= 2\n",
    "        success, average_number_of_evaluations = pass_10_test(N_upper, problem_size, tournament_size, random_seed)\n",
    "        if N_upper == limited_N_upper: \n",
    "            print(f'N_upper is so big! ==> {8192}')\n",
    "            break\n",
    "    return success, N_upper, average_number_of_evaluations"
   ]
  },
  {
   "cell_type": "code",
   "execution_count": 34,
   "id": "d36c6585",
   "metadata": {},
   "outputs": [
    {
     "name": "stdout",
     "output_type": "stream",
     "text": [
      "success: True\n",
      "N_upper: 32\n",
      "average_number_of_evaluations: 227.2\n"
     ]
    }
   ],
   "source": [
    "problem_size = 10\n",
    "tournament_size = 4\n",
    "random_seed = 19521932\n",
    "success, N_upper, average_number_of_evaluations = upper_bound(problem_size, tournament_size, random_seed)\n",
    "print(f'success: {success}')\n",
    "print(f'N_upper: {N_upper}')\n",
    "print(f'average_number_of_evaluations: {average_number_of_evaluations}')"
   ]
  },
  {
   "cell_type": "code",
   "execution_count": 38,
   "id": "e436e896",
   "metadata": {},
   "outputs": [],
   "source": [
    "def MRPS(problem_size, tournament_size, random_seed):\n",
    "    success, N_upper, average_number_of_evaluations = upper_bound(problem_size, tournament_size, random_seed)\n",
    "    \n",
    "    if success == False:\n",
    "        print(f'N_upper is so big! ==> {N_upper}')\n",
    "        return N_upper, average_number_of_evaluations\n",
    "    \n",
    "    N_lower = N_upper/2\n",
    "    while (N_upper - N_lower)/N_upper > 0.1:\n",
    "        N = int((N_upper + N_lower)/2)\n",
    "        \n",
    "        success, average_number_of_evaluations = pass_10_test(N, problem_size, tournament_size, random_seed)\n",
    "        \n",
    "        if success == True:\n",
    "            N_upper = N\n",
    "        else:\n",
    "            N_lower = N\n",
    "            \n",
    "        if (N_upper - N_lower) <= 2:\n",
    "            break\n",
    "            \n",
    "    return N_upper, average_number_of_evaluations"
   ]
  },
  {
   "cell_type": "code",
   "execution_count": 43,
   "id": "04e39a79",
   "metadata": {},
   "outputs": [
    {
     "data": {
      "text/plain": [
       "(208, 6801.6)"
      ]
     },
     "execution_count": 43,
     "metadata": {},
     "output_type": "execute_result"
    }
   ],
   "source": [
    "problem_size = 200\n",
    "tournament_size = 4\n",
    "random_seed = 19521882\n",
    "MRPS(problem_size, tournament_size, random_seed)"
   ]
  },
  {
   "cell_type": "markdown",
   "id": "50f8bb46",
   "metadata": {},
   "source": [
    "# Experiment"
   ]
  },
  {
   "cell_type": "markdown",
   "id": "d84b94bb",
   "metadata": {},
   "source": [
    "## Problem size - 10"
   ]
  },
  {
   "cell_type": "code",
   "execution_count": 55,
   "id": "17866dd8",
   "metadata": {},
   "outputs": [
    {
     "name": "stdout",
     "output_type": "stream",
     "text": [
      "Bisection 0\n",
      "--Minimally required population size: 20\n",
      "--Number of evaluation: 140.0\n",
      "Bisection 1\n",
      "--Minimally required population size: 14\n",
      "--Number of evaluation: 112.0\n",
      "Bisection 2\n",
      "--Minimally required population size: 16\n",
      "--Number of evaluation: 105.0\n",
      "Bisection 3\n",
      "--Minimally required population size: 24\n",
      "--Number of evaluation: 154.0\n",
      "Bisection 4\n",
      "--Minimally required population size: 32\n",
      "--Number of evaluation: 200.0\n",
      "Bisection 5\n",
      "--Minimally required population size: 18\n",
      "--Number of evaluation: 133.2\n",
      "Bisection 6\n",
      "--Minimally required population size: 16\n",
      "--Number of evaluation: 56.0\n",
      "Bisection 7\n",
      "--Minimally required population size: 14\n",
      "--Number of evaluation: 89.6\n",
      "Bisection 8\n",
      "--Minimally required population size: 16\n",
      "--Number of evaluation: 102.2\n",
      "Bisection 9\n",
      "--Minimally required population size: 16\n",
      "--Number of evaluation: 98.0\n"
     ]
    }
   ],
   "source": [
    "problem_size = 10\n",
    "tournament_size = 4\n",
    "random_seed = 19521832\n",
    "# run 10 times bisection \n",
    "for i in range(10):\n",
    "    print(f'Bisection {i}')\n",
    "    \n",
    "    mrps, number_of_evaluation = MRPS(problem_size, tournament_size, random_seed)\n",
    "    print(f'--Minimally required population size: {mrps}')\n",
    "    print(f'--Number of evaluation: {number_of_evaluation}')\n",
    "    random_seed = random_seed + 10"
   ]
  },
  {
   "cell_type": "markdown",
   "id": "b6ce8725",
   "metadata": {},
   "source": [
    "## Problem size - 20"
   ]
  },
  {
   "cell_type": "code",
   "execution_count": 56,
   "id": "64d76f84",
   "metadata": {},
   "outputs": [
    {
     "name": "stdout",
     "output_type": "stream",
     "text": [
      "Bisection 0\n",
      "--Minimally required population size: 36\n",
      "--Number of evaluation: 340.0\n",
      "Bisection 1\n",
      "--Minimally required population size: 30\n",
      "--Number of evaluation: 324.0\n",
      "Bisection 2\n",
      "--Minimally required population size: 28\n",
      "--Number of evaluation: 254.8\n",
      "Bisection 3\n",
      "--Minimally required population size: 24\n",
      "--Number of evaluation: 264.0\n",
      "Bisection 4\n",
      "--Minimally required population size: 28\n",
      "--Number of evaluation: 234.0\n",
      "Bisection 5\n",
      "--Minimally required population size: 28\n",
      "--Number of evaluation: 260.0\n",
      "Bisection 6\n",
      "--Minimally required population size: 22\n",
      "--Number of evaluation: 239.8\n",
      "Bisection 7\n",
      "--Minimally required population size: 36\n",
      "--Number of evaluation: 326.4\n",
      "Bisection 8\n",
      "--Minimally required population size: 28\n",
      "--Number of evaluation: 277.3333333333333\n",
      "Bisection 9\n",
      "--Minimally required population size: 30\n",
      "--Number of evaluation: 303.0\n"
     ]
    }
   ],
   "source": [
    "problem_size = 20\n",
    "tournament_size = 4\n",
    "random_seed = 19521832\n",
    "# run 10 times bisection \n",
    "for i in range(10):\n",
    "    print(f'Bisection {i}')\n",
    "    \n",
    "    mrps, number_of_evaluation = MRPS(problem_size, tournament_size, random_seed)\n",
    "    print(f'--Minimally required population size: {mrps}')\n",
    "    print(f'--Number of evaluation: {number_of_evaluation}')\n",
    "    random_seed = random_seed + 10"
   ]
  },
  {
   "cell_type": "markdown",
   "id": "3801a0e3",
   "metadata": {},
   "source": [
    "## Problem size - 40"
   ]
  },
  {
   "cell_type": "code",
   "execution_count": 57,
   "id": "3180962d",
   "metadata": {},
   "outputs": [
    {
     "name": "stdout",
     "output_type": "stream",
     "text": [
      "Bisection 0\n",
      "--Minimally required population size: 68\n",
      "--Number of evaluation: 965.6\n",
      "Bisection 1\n",
      "--Minimally required population size: 48\n",
      "--Number of evaluation: 677.6\n",
      "Bisection 2\n",
      "--Minimally required population size: 44\n",
      "--Number of evaluation: 655.6\n",
      "Bisection 3\n",
      "--Minimally required population size: 48\n",
      "--Number of evaluation: 682.0\n",
      "Bisection 4\n",
      "--Minimally required population size: 52\n",
      "--Number of evaluation: 780.0\n",
      "Bisection 5\n",
      "--Minimally required population size: 44\n",
      "--Number of evaluation: 655.6\n",
      "Bisection 6\n",
      "--Minimally required population size: 48\n",
      "--Number of evaluation: 632.5\n",
      "Bisection 7\n",
      "--Minimally required population size: 56\n",
      "--Number of evaluation: 743.6\n",
      "Bisection 8\n",
      "--Minimally required population size: 48\n",
      "--Number of evaluation: 748.0\n",
      "Bisection 9\n",
      "--Minimally required population size: 64\n",
      "--Number of evaluation: 840.0\n"
     ]
    }
   ],
   "source": [
    "problem_size = 40\n",
    "tournament_size = 4\n",
    "random_seed = 19521832\n",
    "# run 10 times bisection \n",
    "for i in range(10):\n",
    "    print(f'Bisection {i}')\n",
    "    \n",
    "    mrps, number_of_evaluation = MRPS(problem_size, tournament_size, random_seed)\n",
    "    print(f'--Minimally required population size: {mrps}')\n",
    "    print(f'--Number of evaluation: {number_of_evaluation}')\n",
    "    random_seed = random_seed + 10"
   ]
  },
  {
   "cell_type": "markdown",
   "id": "a6d6cded",
   "metadata": {},
   "source": [
    "## Problem size - 80"
   ]
  },
  {
   "cell_type": "code",
   "execution_count": 58,
   "id": "df70c945",
   "metadata": {},
   "outputs": [
    {
     "name": "stdout",
     "output_type": "stream",
     "text": [
      "Bisection 0\n",
      "--Minimally required population size: 96\n",
      "--Number of evaluation: 1804.0\n",
      "Bisection 1\n",
      "--Minimally required population size: 104\n",
      "--Number of evaluation: 2142.4\n",
      "Bisection 2\n",
      "--Minimally required population size: 96\n",
      "--Number of evaluation: 1857.7777777777778\n",
      "Bisection 3\n",
      "--Minimally required population size: 88\n",
      "--Number of evaluation: 1812.8\n",
      "Bisection 4\n",
      "--Minimally required population size: 104\n",
      "--Number of evaluation: 2111.2\n",
      "Bisection 5\n",
      "--Minimally required population size: 112\n",
      "--Number of evaluation: 2184.0\n",
      "Bisection 6\n",
      "--Minimally required population size: 96\n",
      "--Number of evaluation: 1848.0\n",
      "Bisection 7\n",
      "--Minimally required population size: 112\n",
      "--Number of evaluation: 2137.777777777778\n",
      "Bisection 8\n",
      "--Minimally required population size: 96\n",
      "--Number of evaluation: 1760.0\n",
      "Bisection 9\n",
      "--Minimally required population size: 104\n",
      "--Number of evaluation: 2121.6\n"
     ]
    }
   ],
   "source": [
    "problem_size = 80\n",
    "tournament_size = 4\n",
    "random_seed = 19521832\n",
    "# run 10 times bisection \n",
    "for i in range(10):\n",
    "    print(f'Bisection {i}')\n",
    "    \n",
    "    mrps, number_of_evaluation = MRPS(problem_size, tournament_size, random_seed)\n",
    "    print(f'--Minimally required population size: {mrps}')\n",
    "    print(f'--Number of evaluation: {number_of_evaluation}')\n",
    "    random_seed = random_seed + 10"
   ]
  },
  {
   "cell_type": "markdown",
   "id": "e9a1113e",
   "metadata": {},
   "source": [
    "## Problem size - 160"
   ]
  },
  {
   "cell_type": "code",
   "execution_count": 59,
   "id": "bbef44e3",
   "metadata": {},
   "outputs": [
    {
     "name": "stdout",
     "output_type": "stream",
     "text": [
      "Bisection 0\n",
      "--Minimally required population size: 208\n",
      "--Number of evaluation: 5928.0\n",
      "Bisection 1\n",
      "--Minimally required population size: 240\n",
      "--Number of evaluation: 6792.0\n",
      "Bisection 2\n",
      "--Minimally required population size: 128\n",
      "--Number of evaluation: 3630.0\n",
      "Bisection 3\n",
      "--Minimally required population size: 144\n",
      "--Number of evaluation: 3898.6666666666665\n",
      "Bisection 4\n",
      "--Minimally required population size: 176\n",
      "--Number of evaluation: 5068.8\n",
      "Bisection 5\n",
      "--Minimally required population size: 160\n",
      "--Number of evaluation: 4248.0\n",
      "Bisection 6\n",
      "--Minimally required population size: 208\n",
      "--Number of evaluation: 5907.2\n",
      "Bisection 7\n",
      "--Minimally required population size: 160\n",
      "--Number of evaluation: 4272.0\n",
      "Bisection 8\n",
      "--Minimally required population size: 208\n",
      "--Number of evaluation: 5865.6\n",
      "Bisection 9\n",
      "--Minimally required population size: 160\n",
      "--Number of evaluation: 4248.0\n"
     ]
    }
   ],
   "source": [
    "problem_size = 160\n",
    "tournament_size = 4\n",
    "random_seed = 19521832\n",
    "# run 10 times bisection \n",
    "for i in range(10):\n",
    "    print(f'Bisection {i}')\n",
    "    \n",
    "    mrps, number_of_evaluation = MRPS(problem_size, tournament_size, random_seed)\n",
    "    print(f'--Minimally required population size: {mrps}')\n",
    "    print(f'--Number of evaluation: {number_of_evaluation}')\n",
    "    random_seed = random_seed + 10"
   ]
  },
  {
   "cell_type": "code",
   "execution_count": null,
   "id": "2b3edb21",
   "metadata": {},
   "outputs": [],
   "source": []
  }
 ],
 "metadata": {
  "kernelspec": {
   "display_name": "Python 3 (ipykernel)",
   "language": "python",
   "name": "python3"
  },
  "language_info": {
   "codemirror_mode": {
    "name": "ipython",
    "version": 3
   },
   "file_extension": ".py",
   "mimetype": "text/x-python",
   "name": "python",
   "nbconvert_exporter": "python",
   "pygments_lexer": "ipython3",
   "version": "3.10.7"
  }
 },
 "nbformat": 4,
 "nbformat_minor": 5
}

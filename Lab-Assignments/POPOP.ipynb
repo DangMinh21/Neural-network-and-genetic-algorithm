{
 "cells": [
  {
   "cell_type": "markdown",
   "metadata": {},
   "source": [
    "# Task\n",
    "\n",
    "* Cài đặt Genetic Algorithm theo bản cài đặt **POPOP** (không sử dụng mutation).\n",
    "\n",
    "* thực nghiệm bản cài đặt của mình với các **problem size** của hàm OneMax tăng dần như sau: 8, 16, 32, 64, 128\n",
    "\n",
    "* Ở đầu mỗi lượt chạy, khi khởi tạo quần thể, thì cần đặt lại random seed. Hãy chọn random seed là MSSV của mình.\n",
    "\n",
    "* Với mỗi problem size, hãy chọn ra population size có khả năng tìm ra được lời giải tối ưu (không chạy quá 50 thế hệ). \n",
    "\n",
    "> Bài nộp: 1 file ipynb (Ở cuối file viết một đoạn bình luận ngắn thống kế và nhận xét về kết quả thực nghiệm)."
   ]
  },
  {
   "cell_type": "markdown",
   "metadata": {},
   "source": [
    "# Code truncation"
   ]
  },
  {
   "cell_type": "code",
   "execution_count": 6,
   "metadata": {
    "id": "r__fmusqNNuu"
   },
   "outputs": [],
   "source": [
    "import numpy as np"
   ]
  },
  {
   "cell_type": "code",
   "execution_count": 7,
   "metadata": {
    "id": "cDw0uXxPNNuv"
   },
   "outputs": [],
   "source": [
    "def initialize_population( num_individuals, num_variables ):\n",
    "    \"\"\"\n",
    "    Khởi tạo quần thể gồm num_individuals cá thể. Mỗi cá thể có num_parameters biến.\n",
    "    \n",
    "    Arguments:\n",
    "    num_individuals -- Số lượng cá thể\n",
    "    num_variables -- Số lượng biến\n",
    "    \n",
    "    Returns:\n",
    "    pop -- Ma trận (num_individuals, num_variables ) chứa quần thể mới được khởi tạo ngẫu nhiên.\n",
    "    \"\"\"\n",
    "    \n",
    "    ### BẮT ĐẦU CODE TỪ ĐÂY ### \n",
    "    pop = np.random.randint(2, size=(num_individuals, num_variables))\n",
    "    \n",
    "    ### DỪNG CODE TẠI ĐÂY ###\n",
    "    \n",
    "    return pop"
   ]
  },
  {
   "cell_type": "code",
   "execution_count": 42,
   "metadata": {
    "colab": {
     "base_uri": "https://localhost:8080/"
    },
    "id": "B2mFFli0fUCH",
    "outputId": "38b81425-074c-4b13-dc76-05c62f44acb0"
   },
   "outputs": [
    {
     "name": "stdout",
     "output_type": "stream",
     "text": [
      "[[0 1 0 0]\n",
      " [0 1 0 0]\n",
      " [0 1 0 0]\n",
      " [0 0 1 0]\n",
      " [1 1 1 0]\n",
      " [1 0 1 1]\n",
      " [1 1 1 1]\n",
      " [1 1 0 0]]\n"
     ]
    }
   ],
   "source": [
    "np.random.seed(42)\n",
    "pop = initialize_population(8,4)\n",
    "print(pop)"
   ]
  },
  {
   "cell_type": "code",
   "execution_count": 5,
   "metadata": {
    "id": "sexPh34MNNuw"
   },
   "outputs": [],
   "source": [
    "def onemax( ind ):\n",
    "    \"\"\"\n",
    "    Hàm đánh giá OneMax: Đếm số bit 1 trong chuỗi nhị phân (cá thể ind).\n",
    "    \n",
    "    Arguments:\n",
    "    ind -- Cá thể cần được đánh giá.\n",
    "\n",
    "    Returns:\n",
    "    value -- Giá trị của cá thể ind.\n",
    "    \"\"\"\n",
    "    \n",
    "    ### BẮT ĐẦU CODE TỪ ĐÂY ###     \n",
    "    value = np.sum(ind)\n",
    "    \n",
    "    ### DỪNG CODE TẠI ĐÂY ###\n",
    "    \n",
    "    return value"
   ]
  },
  {
   "cell_type": "code",
   "execution_count": 6,
   "metadata": {
    "colab": {
     "base_uri": "https://localhost:8080/"
    },
    "id": "m-wgJivufTUG",
    "outputId": "db3b39f8-8265-4afa-92c6-ea6613df3749"
   },
   "outputs": [
    {
     "data": {
      "text/plain": [
       "3"
      ]
     },
     "execution_count": 6,
     "metadata": {},
     "output_type": "execute_result"
    }
   ],
   "source": [
    "onemax(pop[5,:])"
   ]
  },
  {
   "cell_type": "code",
   "execution_count": 7,
   "metadata": {
    "id": "RWOJbcSCn3mz"
   },
   "outputs": [],
   "source": [
    "def truncation_selection(pop, pop_fitness, selection_size):\n",
    "    selected_indices = np.argsort(pop_fitness)[-selection_size:]\n",
    "    return selected_indices"
   ]
  },
  {
   "cell_type": "code",
   "execution_count": 8,
   "metadata": {
    "colab": {
     "background_save": true
    },
    "id": "KYtI5HO2NNuy"
   },
   "outputs": [],
   "source": [
    "def crossover( pop ):\n",
    "    \"\"\"\n",
    "    Hàm biến đổi tạo ra các cá thể con.\n",
    "    \n",
    "    Arguments:\n",
    "    pop -- Quàn thể hiện tại.\n",
    "\n",
    "    Returns:\n",
    "    offspring -- Quần thể chứa các cá thể con được sinh ra.\n",
    "    \"\"\"  \n",
    "    \n",
    "    ### BẮT ĐẦU CODE TỪ ĐÂY ### \n",
    "    num_individuals = len(pop)\n",
    "    num_parameters = len(pop[0])\n",
    "    indices = np.arange(num_individuals)\n",
    "    # Đảo ngẫu nhiên thứ tự các cá thể trong quần thể\n",
    "    np.random.shuffle(indices)\n",
    "    offspring = []\n",
    "    \n",
    "    for i in range(0, num_individuals, 2):\n",
    "        idx1 = indices[i]\n",
    "        idx2 = indices[i+1]\n",
    "        offspring1 = list(pop[idx1])\n",
    "        offspring2 = list(pop[idx2])\n",
    "        \n",
    "        # Cài đặt phép lai đồng nhất uniform crossover. \n",
    "        # Không cần cài đặt đột biến mutation.\n",
    "        for idx in range(0, num_parameters):\n",
    "            r = np.random.rand()\n",
    "            if r < 0.5:\n",
    "                temp = offspring2[idx] \n",
    "                offspring2[idx] = offspring1[idx]\n",
    "                offspring1[idx] = temp\n",
    "\n",
    "        offspring.append(offspring1)\n",
    "        offspring.append(offspring2)\n",
    "\n",
    "\n",
    "    ### DỪNG CODE TẠI ĐÂY ###\n",
    "    \n",
    "    offspring = np.array(offspring)\n",
    "    return offspring"
   ]
  },
  {
   "cell_type": "code",
   "execution_count": 9,
   "metadata": {
    "id": "YPG8Ayu_yzwC"
   },
   "outputs": [],
   "source": [
    "def mutation(pop, mutation_prob):\n",
    "    num_individuals = len(pop)\n",
    "    num_parameters = len(pop[0])\n",
    "    for i in range(0, num_individuals):\n",
    "        for j in range(0, num_parameters):\n",
    "            r = np.random.rand()\n",
    "            if r < mutation_prob:\n",
    "                if pop[i][j] == 0:\n",
    "                    pop[i][j] = 1\n",
    "                else:\n",
    "                    pop[i][j] = 0\n",
    "    \n",
    "    return pop"
   ]
  },
  {
   "cell_type": "code",
   "execution_count": 10,
   "metadata": {
    "colab": {
     "background_save": true
    },
    "id": "s-tug82wvrIV"
   },
   "outputs": [],
   "source": [
    "def genetic_algorithm(num_individuals, num_parameters, num_generations):\n",
    "    \n",
    "    # Initialize and evaluate individuals\n",
    "    pop = initialize_population(num_individuals, num_parameters)\n",
    "    pop_fitness = np.array([onemax(ind) for ind in pop])\n",
    "    print(\"#Gen 0:\")\n",
    "    print(pop_fitness)\n",
    "\n",
    "    selection_size = num_individuals // 2\n",
    "\n",
    "    for i in range(num_generations):\n",
    "        # Select Parents\n",
    "        selected_indices = truncation_selection( pop, pop_fitness, selection_size )\n",
    "        selection_set = pop[selected_indices]\n",
    "        selection_fitness = pop_fitness[selected_indices]\n",
    "        \n",
    "        # Create and evaluate offstring\n",
    "        offspring = crossover(selection_set)\n",
    "        offspring = mutation(offspring, 0.1)\n",
    "        offspring_fitness = np.array([onemax(ind) for ind in offspring])\n",
    "        \n",
    "        # P <-- O\n",
    "        pop = np.vstack([selection_set, offspring])\n",
    "        pop_fitness = np.concatenate((selection_fitness, offspring_fitness))\n",
    "        \n",
    "        # Generation += 1\n",
    "        print(f'#Gen {i+1}:')\n",
    "        print(pop_fitness)\n",
    "    \n",
    "    print('#Final result:')\n",
    "    print(pop)\n",
    "    print(pop_fitness)\n"
   ]
  },
  {
   "cell_type": "code",
   "execution_count": 20,
   "metadata": {
    "colab": {
     "base_uri": "https://localhost:8080/"
    },
    "id": "_M6RxNZxxw8u",
    "outputId": "26c3ad61-760b-4247-96da-9b56b6594b0b"
   },
   "outputs": [
    {
     "name": "stdout",
     "output_type": "stream",
     "text": [
      "#Gen 0:\n",
      "[4 6 4 4 7 5 7 5]\n",
      "#Gen 1:\n",
      "[5 6 7 7 6 6 5 4]\n",
      "#Gen 2:\n",
      "[6 6 7 7 5 8 6 6]\n",
      "#Gen 3:\n",
      "[6 7 7 8 7 7 6 3]\n",
      "#Gen 4:\n",
      "[7 7 7 8 7 7 6 7]\n",
      "#Gen 5:\n",
      "[7 7 7 8 7 7 7 7]\n",
      "#Gen 6:\n",
      "[7 7 7 8 6 7 6 6]\n",
      "#Gen 7:\n",
      "[7 7 7 8 8 9 6 8]\n",
      "#Gen 8:\n",
      "[8 8 8 9 7 9 8 6]\n",
      "#Gen 9:\n",
      "[8 8 9 9 6 9 6 8]\n",
      "#Gen 10:\n",
      "[8 9 9 9 8 9 8 8]\n",
      "#Final result:\n",
      "[[0 1 1 1 1 1 1 1 1 0]\n",
      " [0 1 1 1 1 1 1 1 1 1]\n",
      " [0 1 1 1 1 1 1 1 1 1]\n",
      " [1 1 1 1 1 1 1 1 1 0]\n",
      " [0 1 0 1 1 1 1 1 1 1]\n",
      " [1 1 1 1 1 1 1 1 1 0]\n",
      " [0 1 1 1 1 1 1 1 1 0]\n",
      " [0 1 1 1 0 1 1 1 1 1]]\n",
      "[8 9 9 9 8 9 8 8]\n"
     ]
    }
   ],
   "source": [
    "num_parameters = 10\n",
    "num_individuals = 8\n",
    "num_generations = 10\n",
    "np.random.seed(19521832)\n",
    "genetic_algorithm(num_individuals, num_parameters, num_generations)"
   ]
  },
  {
   "cell_type": "markdown",
   "metadata": {
    "collapsed": true,
    "id": "dlTkpJTYNNu3"
   },
   "source": [
    "# Code POPOP"
   ]
  },
  {
   "cell_type": "code",
   "execution_count": 1,
   "metadata": {},
   "outputs": [],
   "source": [
    "def tourament_selection(parent_population, popuation_size, tourament_size):\n",
    "    pass"
   ]
  },
  {
   "cell_type": "code",
   "execution_count": 76,
   "metadata": {},
   "outputs": [],
   "source": [
    "def convergence(pop):\n",
    "    n_ind = len(pop)\n",
    "    print(n_ind)\n",
    "    \n",
    "    indice = np.arange(n_ind)\n",
    "    np.random.shuffle(indice)\n",
    "    shuffle_pop = np.copy(pop[indice])\n",
    "    \n",
    "    all_same = shuffle_pop == pop\n",
    "    \n",
    "    return all_same.all()"
   ]
  },
  {
   "cell_type": "code",
   "execution_count": 108,
   "metadata": {},
   "outputs": [
    {
     "name": "stdout",
     "output_type": "stream",
     "text": [
      "3\n"
     ]
    },
    {
     "data": {
      "text/plain": [
       "True"
      ]
     },
     "execution_count": 108,
     "metadata": {},
     "output_type": "execute_result"
    }
   ],
   "source": [
    "arr = np.array([[0, 1, 0, 1], [0, 1, 0, 1], [0, 1, 0, 1]])\n",
    "convergence(arr)"
   ]
  },
  {
   "cell_type": "code",
   "execution_count": 78,
   "metadata": {},
   "outputs": [
    {
     "name": "stdout",
     "output_type": "stream",
     "text": [
      "[[ True  True]\n",
      " [ True  True]]\n",
      "True\n"
     ]
    }
   ],
   "source": [
    "import numpy as np\n",
    " \n",
    "an_array = np.array([[1, 2], [3, 4]])\n",
    "another_array = np.array([[1, 2], [3, 4]])\n",
    " \n",
    "comparison = an_array == another_array\n",
    "print(comparison)\n",
    "equal_arrays = comparison.all()\n",
    " \n",
    "print(equal_arrays)"
   ]
  },
  {
   "cell_type": "code",
   "execution_count": 2,
   "metadata": {},
   "outputs": [
    {
     "ename": "SyntaxError",
     "evalue": "incomplete input (470572905.py, line 1)",
     "output_type": "error",
     "traceback": [
      "\u001b[1;36m  Cell \u001b[1;32mIn [2], line 1\u001b[1;36m\u001b[0m\n\u001b[1;33m    def POPOP_genetic_algorithm():\u001b[0m\n\u001b[1;37m                                  ^\u001b[0m\n\u001b[1;31mSyntaxError\u001b[0m\u001b[1;31m:\u001b[0m incomplete input\n"
     ]
    }
   ],
   "source": [
    "def POPOP_genetic_algorithm():\n",
    "    # Initialize individuals\n",
    "    pop = initialize_population(num_individuals, num_variables)\n",
    "    \n",
    "    while True:\n",
    "        \n",
    "        if convergence(pop) == True: \n",
    "            break\n",
    "    \n",
    "        # Create offstring\n",
    "        offstring = crossover(pop)\n",
    "        # P + O pool\n",
    "        P_O_pop = np.vstack(pop, offstring)\n",
    "        # Select parent for next generation\n",
    "        pop = tournament_selection(P_O_pop, tournament_size, population_size)\n"
   ]
  },
  {
   "cell_type": "markdown",
   "metadata": {},
   "source": [
    "## Problem size - 8"
   ]
  },
  {
   "cell_type": "code",
   "execution_count": 43,
   "metadata": {
    "collapsed": true
   },
   "outputs": [
    {
     "ename": "NameError",
     "evalue": "name 'POPOP_genetic_algorithm' is not defined",
     "output_type": "error",
     "traceback": [
      "\u001b[1;31m---------------------------------------------------------------------------\u001b[0m",
      "\u001b[1;31mNameError\u001b[0m                                 Traceback (most recent call last)",
      "Cell \u001b[1;32mIn [43], line 4\u001b[0m\n\u001b[0;32m      2\u001b[0m num_individuals \u001b[38;5;241m=\u001b[39m \u001b[38;5;241m8\u001b[39m\n\u001b[0;32m      3\u001b[0m num_generations \u001b[38;5;241m=\u001b[39m \u001b[38;5;241m10\u001b[39m\n\u001b[1;32m----> 4\u001b[0m \u001b[43mPOPOP_genetic_algorithm\u001b[49m(num_individuals, num_parameters)\n",
      "\u001b[1;31mNameError\u001b[0m: name 'POPOP_genetic_algorithm' is not defined"
     ]
    }
   ],
   "source": [
    "num_parameters =  8\n",
    "num_individuals = 4\n",
    "np.random.seed(19521832)\n",
    "POPOP_genetic_algorithm(num_individuals, num_parameters)"
   ]
  },
  {
   "cell_type": "markdown",
   "metadata": {},
   "source": [
    "## Problem size - 16"
   ]
  },
  {
   "cell_type": "code",
   "execution_count": null,
   "metadata": {},
   "outputs": [],
   "source": []
  },
  {
   "cell_type": "markdown",
   "metadata": {},
   "source": [
    "## Problem size - 32"
   ]
  },
  {
   "cell_type": "code",
   "execution_count": null,
   "metadata": {},
   "outputs": [],
   "source": []
  },
  {
   "cell_type": "markdown",
   "metadata": {},
   "source": [
    "## Problem size - 64"
   ]
  },
  {
   "cell_type": "code",
   "execution_count": null,
   "metadata": {},
   "outputs": [],
   "source": []
  },
  {
   "cell_type": "markdown",
   "metadata": {},
   "source": [
    "## Problem size - 128"
   ]
  },
  {
   "cell_type": "code",
   "execution_count": null,
   "metadata": {},
   "outputs": [],
   "source": []
  }
 ],
 "metadata": {
  "anaconda-cloud": {},
  "colab": {
   "provenance": []
  },
  "kernelspec": {
   "display_name": "Python 3 (ipykernel)",
   "language": "python",
   "name": "python3"
  },
  "language_info": {
   "codemirror_mode": {
    "name": "ipython",
    "version": 3
   },
   "file_extension": ".py",
   "mimetype": "text/x-python",
   "name": "python",
   "nbconvert_exporter": "python",
   "pygments_lexer": "ipython3",
   "version": "3.10.7"
  }
 },
 "nbformat": 4,
 "nbformat_minor": 1
}
